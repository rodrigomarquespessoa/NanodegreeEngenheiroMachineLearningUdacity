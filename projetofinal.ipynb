{
 "cells": [
  {
   "cell_type": "markdown",
   "metadata": {},
   "source": [
    "# Nome Aluno: Rodrigo Marques Pessoa\n",
    "\n",
    "Versão Python: 2"
   ]
  },
  {
   "cell_type": "markdown",
   "metadata": {},
   "source": [
    "# Nanodegree Engenheiro de Machine Learning\n",
    "## Aprendizado Supervisionado\n",
    "## Projeto: Predição de Necessidade de Internamento"
   ]
  },
  {
   "cell_type": "markdown",
   "metadata": {},
   "source": [
    "## Iniciando\n",
    "\n",
    "Para tentar prever a necessidade de internação utilizaremos os dados das unidades de saúde com os dados dos pacientes e dados dos diagnósticos realizados pelos médicos. O modelo preditivo utilizará os dados públicos da prefeitura de Curitiba que está disponível para download através do seguinte endereço eletrônico: http://www.curitiba.pr.gov.br/dadosabertos/consulta/?grupo=1. \n",
    "\n",
    "Como o os dados apresentam as informações dos últimos 3 meses de atendimento das unidades de saúde, contendo quase 1.000.000 de registros utilizaremos uma amostragem para realizar o modelo preditivo. \n",
    "Trabalharei com uma amostra de 664 registros, que foi calculado levando em consideração 5% de erro amostral e 99% de nível de confiança.\n",
    "Como os dados não foram coletados com o intuito de utilização para o modelo de predição existe uma grande quantidade de dados ausentes e um trabalho de limpeza e padronização será necessário\n",
    "Outra questão é fazer o balanceamento das classes já que a proporção de necessidade de internações comparada as da não necessidade são muito desproporcionais.\n",
    "\n"
   ]
  },
  {
   "cell_type": "markdown",
   "metadata": {},
   "source": [
    "----\n",
    "## Explorando os dados\n",
    "\n"
   ]
  },
  {
   "cell_type": "code",
   "execution_count": 110,
   "metadata": {},
   "outputs": [
    {
     "name": "stdout",
     "output_type": "stream",
     "text": [
      "Dados antes do pré-processamento\n"
     ]
    },
    {
     "data": {
      "text/html": [
       "<div>\n",
       "<style>\n",
       "    .dataframe thead tr:only-child th {\n",
       "        text-align: right;\n",
       "    }\n",
       "\n",
       "    .dataframe thead th {\n",
       "        text-align: left;\n",
       "    }\n",
       "\n",
       "    .dataframe tbody tr th {\n",
       "        vertical-align: top;\n",
       "    }\n",
       "</style>\n",
       "<table border=\"1\" class=\"dataframe\">\n",
       "  <thead>\n",
       "    <tr style=\"text-align: right;\">\n",
       "      <th></th>\n",
       "      <th>datanasc</th>\n",
       "      <th>Sexo</th>\n",
       "      <th>ciddesc</th>\n",
       "      <th>solex</th>\n",
       "      <th>encesp</th>\n",
       "      <th>tratdom</th>\n",
       "      <th>energia</th>\n",
       "      <th>habitacao</th>\n",
       "      <th>lixo</th>\n",
       "      <th>Fezes/Urina</th>\n",
       "      <th>Comodos</th>\n",
       "      <th>Internamento</th>\n",
       "    </tr>\n",
       "  </thead>\n",
       "  <tbody>\n",
       "    <tr>\n",
       "      <th>0</th>\n",
       "      <td>04/10/2012 00:00</td>\n",
       "      <td>F</td>\n",
       "      <td>EXAME MEDICO GERAL</td>\n",
       "      <td>Nao</td>\n",
       "      <td>Sim</td>\n",
       "      <td>SEM TRATAMENTO</td>\n",
       "      <td>Sim</td>\n",
       "      <td>TIJOLO/ALVENARIA COM REVESTIMENTO</td>\n",
       "      <td>COLETADO</td>\n",
       "      <td>SISTEMA DE ESGOTO</td>\n",
       "      <td>5</td>\n",
       "      <td>Nao</td>\n",
       "    </tr>\n",
       "  </tbody>\n",
       "</table>\n",
       "</div>"
      ],
      "text/plain": [
       "           datanasc Sexo             ciddesc solex encesp         tratdom  \\\n",
       "0  04/10/2012 00:00    F  EXAME MEDICO GERAL   Nao    Sim  SEM TRATAMENTO   \n",
       "\n",
       "  energia                          habitacao      lixo        Fezes/Urina  \\\n",
       "0     Sim  TIJOLO/ALVENARIA COM REVESTIMENTO  COLETADO  SISTEMA DE ESGOTO   \n",
       "\n",
       "   Comodos Internamento  \n",
       "0        5          Nao  "
      ]
     },
     "metadata": {},
     "output_type": "display_data"
    },
    {
     "name": "stdout",
     "output_type": "stream",
     "text": [
      "Dados de pacientes com necessidade de internamento\n"
     ]
    },
    {
     "data": {
      "text/html": [
       "<div>\n",
       "<style>\n",
       "    .dataframe thead tr:only-child th {\n",
       "        text-align: right;\n",
       "    }\n",
       "\n",
       "    .dataframe thead th {\n",
       "        text-align: left;\n",
       "    }\n",
       "\n",
       "    .dataframe tbody tr th {\n",
       "        vertical-align: top;\n",
       "    }\n",
       "</style>\n",
       "<table border=\"1\" class=\"dataframe\">\n",
       "  <thead>\n",
       "    <tr style=\"text-align: right;\">\n",
       "      <th></th>\n",
       "      <th>datanasc</th>\n",
       "      <th>Sexo</th>\n",
       "      <th>ciddesc</th>\n",
       "      <th>solex</th>\n",
       "      <th>encesp</th>\n",
       "      <th>tratdom</th>\n",
       "      <th>energia</th>\n",
       "      <th>habitacao</th>\n",
       "      <th>lixo</th>\n",
       "      <th>Fezes/Urina</th>\n",
       "      <th>Comodos</th>\n",
       "      <th>Internamento</th>\n",
       "    </tr>\n",
       "  </thead>\n",
       "  <tbody>\n",
       "    <tr>\n",
       "      <th>347</th>\n",
       "      <td>10/06/1990 00:00</td>\n",
       "      <td>F</td>\n",
       "      <td>ABDOME AGUDO</td>\n",
       "      <td>Sim</td>\n",
       "      <td>Nao</td>\n",
       "      <td>SEM TRATAMENTO</td>\n",
       "      <td>Sim</td>\n",
       "      <td>TIJOLO/ALVENARIA COM REVESTIMENTO</td>\n",
       "      <td>COLETADO</td>\n",
       "      <td>SISTEMA DE ESGOTO</td>\n",
       "      <td>5</td>\n",
       "      <td>Sim</td>\n",
       "    </tr>\n",
       "    <tr>\n",
       "      <th>348</th>\n",
       "      <td>25/06/1961 00:00</td>\n",
       "      <td>M</td>\n",
       "      <td>ACIDENTE VASCULAR CEREBRAL, NAO ESPECIFICADO C...</td>\n",
       "      <td>Sim</td>\n",
       "      <td>Nao</td>\n",
       "      <td>NAO ESPECIFICADO</td>\n",
       "      <td>Nao</td>\n",
       "      <td>TIJOLO/ALVENARIA COM REVESTIMENTO</td>\n",
       "      <td>COLETADO</td>\n",
       "      <td>SISTEMA DE ESGOTO</td>\n",
       "      <td>5</td>\n",
       "      <td>Sim</td>\n",
       "    </tr>\n",
       "    <tr>\n",
       "      <th>349</th>\n",
       "      <td>09/09/1987 00:00</td>\n",
       "      <td>M</td>\n",
       "      <td>OSTEOMIELITE NAO ESPECIFICADA</td>\n",
       "      <td>Sim</td>\n",
       "      <td>Nao</td>\n",
       "      <td>NAO ESPECIFICADO</td>\n",
       "      <td>Nao</td>\n",
       "      <td>NAO ESPECIFICADO</td>\n",
       "      <td>NAO ESPECIFICADO</td>\n",
       "      <td>NAO ESPECIFICADO</td>\n",
       "      <td>0</td>\n",
       "      <td>Sim</td>\n",
       "    </tr>\n",
       "    <tr>\n",
       "      <th>350</th>\n",
       "      <td>30/06/1994 00:00</td>\n",
       "      <td>F</td>\n",
       "      <td>AMEACA DE ABORTO</td>\n",
       "      <td>Sim</td>\n",
       "      <td>Nao</td>\n",
       "      <td>FILTRACAO</td>\n",
       "      <td>Sim</td>\n",
       "      <td>TIJOLO/ALVENARIA COM REVESTIMENTO</td>\n",
       "      <td>COLETADO</td>\n",
       "      <td>SISTEMA DE ESGOTO</td>\n",
       "      <td>6</td>\n",
       "      <td>Sim</td>\n",
       "    </tr>\n",
       "    <tr>\n",
       "      <th>351</th>\n",
       "      <td>26/11/2015 00:00</td>\n",
       "      <td>F</td>\n",
       "      <td>LARINGITE AGUDA</td>\n",
       "      <td>Sim</td>\n",
       "      <td>Nao</td>\n",
       "      <td>NAO ESPECIFICADO</td>\n",
       "      <td>Nao</td>\n",
       "      <td>TIJOLO/ALVENARIA COM REVESTIMENTO</td>\n",
       "      <td>COLETADO</td>\n",
       "      <td>SISTEMA DE ESGOTO</td>\n",
       "      <td>3</td>\n",
       "      <td>Sim</td>\n",
       "    </tr>\n",
       "    <tr>\n",
       "      <th>352</th>\n",
       "      <td>22/07/1967 00:00</td>\n",
       "      <td>F</td>\n",
       "      <td>PARESTESIAS CUTANEAS</td>\n",
       "      <td>Sim</td>\n",
       "      <td>Nao</td>\n",
       "      <td>NAO ESPECIFICADO</td>\n",
       "      <td>Nao</td>\n",
       "      <td>NAO ESPECIFICADO</td>\n",
       "      <td>NAO ESPECIFICADO</td>\n",
       "      <td>NAO ESPECIFICADO</td>\n",
       "      <td>0</td>\n",
       "      <td>Sim</td>\n",
       "    </tr>\n",
       "    <tr>\n",
       "      <th>353</th>\n",
       "      <td>20/03/1952 00:00</td>\n",
       "      <td>M</td>\n",
       "      <td>OUTRAS DORES ABDOMINAIS E AS NAO ESPECIFICADAS</td>\n",
       "      <td>Sim</td>\n",
       "      <td>Nao</td>\n",
       "      <td>SEM TRATAMENTO</td>\n",
       "      <td>Sim</td>\n",
       "      <td>TIJOLO/ALVENARIA COM REVESTIMENTO</td>\n",
       "      <td>COLETADO</td>\n",
       "      <td>SISTEMA DE ESGOTO</td>\n",
       "      <td>8</td>\n",
       "      <td>Sim</td>\n",
       "    </tr>\n",
       "    <tr>\n",
       "      <th>354</th>\n",
       "      <td>27/06/1998 00:00</td>\n",
       "      <td>F</td>\n",
       "      <td>EPISODIO DEPRESSIVO GRAVE SEM SINTOMAS PSICOTICOS</td>\n",
       "      <td>Nao</td>\n",
       "      <td>Nao</td>\n",
       "      <td>FILTRACAO</td>\n",
       "      <td>Sim</td>\n",
       "      <td>TIJOLO/ALVENARIA COM REVESTIMENTO</td>\n",
       "      <td>COLETADO</td>\n",
       "      <td>SISTEMA DE ESGOTO</td>\n",
       "      <td>6</td>\n",
       "      <td>Sim</td>\n",
       "    </tr>\n",
       "    <tr>\n",
       "      <th>355</th>\n",
       "      <td>01/01/1963 00:00</td>\n",
       "      <td>F</td>\n",
       "      <td>OUTRAS DORES ABDOMINAIS E AS NAO ESPECIFICADAS</td>\n",
       "      <td>Sim</td>\n",
       "      <td>Nao</td>\n",
       "      <td>FILTRACAO</td>\n",
       "      <td>Sim</td>\n",
       "      <td>TIJOLO/ALVENARIA COM REVESTIMENTO</td>\n",
       "      <td>COLETADO</td>\n",
       "      <td>SISTEMA DE ESGOTO</td>\n",
       "      <td>6</td>\n",
       "      <td>Sim</td>\n",
       "    </tr>\n",
       "    <tr>\n",
       "      <th>356</th>\n",
       "      <td>21/02/1971 00:00</td>\n",
       "      <td>M</td>\n",
       "      <td>TRANSTORNOS MENTAIS E COMPORT. DEV. USO COCAIN...</td>\n",
       "      <td>Nao</td>\n",
       "      <td>Nao</td>\n",
       "      <td>FILTRACAO</td>\n",
       "      <td>Sim</td>\n",
       "      <td>TIJOLO/ALVENARIA COM REVESTIMENTO</td>\n",
       "      <td>COLETADO</td>\n",
       "      <td>SISTEMA DE ESGOTO</td>\n",
       "      <td>4</td>\n",
       "      <td>Sim</td>\n",
       "    </tr>\n",
       "  </tbody>\n",
       "</table>\n",
       "</div>"
      ],
      "text/plain": [
       "             datanasc Sexo                                            ciddesc  \\\n",
       "347  10/06/1990 00:00    F                                       ABDOME AGUDO   \n",
       "348  25/06/1961 00:00    M  ACIDENTE VASCULAR CEREBRAL, NAO ESPECIFICADO C...   \n",
       "349  09/09/1987 00:00    M                      OSTEOMIELITE NAO ESPECIFICADA   \n",
       "350  30/06/1994 00:00    F                                   AMEACA DE ABORTO   \n",
       "351  26/11/2015 00:00    F                                    LARINGITE AGUDA   \n",
       "352  22/07/1967 00:00    F                               PARESTESIAS CUTANEAS   \n",
       "353  20/03/1952 00:00    M     OUTRAS DORES ABDOMINAIS E AS NAO ESPECIFICADAS   \n",
       "354  27/06/1998 00:00    F  EPISODIO DEPRESSIVO GRAVE SEM SINTOMAS PSICOTICOS   \n",
       "355  01/01/1963 00:00    F     OUTRAS DORES ABDOMINAIS E AS NAO ESPECIFICADAS   \n",
       "356  21/02/1971 00:00    M  TRANSTORNOS MENTAIS E COMPORT. DEV. USO COCAIN...   \n",
       "\n",
       "    solex encesp           tratdom energia                          habitacao  \\\n",
       "347   Sim    Nao    SEM TRATAMENTO     Sim  TIJOLO/ALVENARIA COM REVESTIMENTO   \n",
       "348   Sim    Nao  NAO ESPECIFICADO     Nao  TIJOLO/ALVENARIA COM REVESTIMENTO   \n",
       "349   Sim    Nao  NAO ESPECIFICADO     Nao                   NAO ESPECIFICADO   \n",
       "350   Sim    Nao         FILTRACAO     Sim  TIJOLO/ALVENARIA COM REVESTIMENTO   \n",
       "351   Sim    Nao  NAO ESPECIFICADO     Nao  TIJOLO/ALVENARIA COM REVESTIMENTO   \n",
       "352   Sim    Nao  NAO ESPECIFICADO     Nao                   NAO ESPECIFICADO   \n",
       "353   Sim    Nao    SEM TRATAMENTO     Sim  TIJOLO/ALVENARIA COM REVESTIMENTO   \n",
       "354   Nao    Nao         FILTRACAO     Sim  TIJOLO/ALVENARIA COM REVESTIMENTO   \n",
       "355   Sim    Nao         FILTRACAO     Sim  TIJOLO/ALVENARIA COM REVESTIMENTO   \n",
       "356   Nao    Nao         FILTRACAO     Sim  TIJOLO/ALVENARIA COM REVESTIMENTO   \n",
       "\n",
       "                 lixo        Fezes/Urina  Comodos Internamento  \n",
       "347          COLETADO  SISTEMA DE ESGOTO        5          Sim  \n",
       "348          COLETADO  SISTEMA DE ESGOTO        5          Sim  \n",
       "349  NAO ESPECIFICADO   NAO ESPECIFICADO        0          Sim  \n",
       "350          COLETADO  SISTEMA DE ESGOTO        6          Sim  \n",
       "351          COLETADO  SISTEMA DE ESGOTO        3          Sim  \n",
       "352  NAO ESPECIFICADO   NAO ESPECIFICADO        0          Sim  \n",
       "353          COLETADO  SISTEMA DE ESGOTO        8          Sim  \n",
       "354          COLETADO  SISTEMA DE ESGOTO        6          Sim  \n",
       "355          COLETADO  SISTEMA DE ESGOTO        6          Sim  \n",
       "356          COLETADO  SISTEMA DE ESGOTO        4          Sim  "
      ]
     },
     "metadata": {},
     "output_type": "display_data"
    }
   ],
   "source": [
    "import numpy as np\n",
    "import pandas as pd\n",
    "from time import time\n",
    "from datetime import datetime\n",
    "from IPython.display import display # Permite a utilização da função display() para DataFrames.\n",
    "\n",
    "%matplotlib inline\n",
    "\n",
    "data = pd.read_csv(\"amostra_internacao.csv\",delimiter=';')\n",
    "data_internamento = data[data['Internamento'] =='Sim']\n",
    "\n",
    "print('Dados antes do pré-processamento')\n",
    "display(data.head(n=1))\n",
    "\n",
    "print('Dados de pacientes com necessidade de internamento')\n",
    "display(data_internamento.head(n=10))\n"
   ]
  },
  {
   "cell_type": "markdown",
   "metadata": {},
   "source": [
    "### Implementação: Explorando os Dados\n",
    "\n",
    "\n",
    "- O número total de registros.\n",
    "- O número de indivíduos que precisaram de internamento.\n",
    "- O número de indivíduos que não precisaram de internamento.\n",
    "- O percentual de indivíduos que precisou de internamento.\n",
    "\n"
   ]
  },
  {
   "cell_type": "code",
   "execution_count": 111,
   "metadata": {},
   "outputs": [
    {
     "name": "stdout",
     "output_type": "stream",
     "text": [
      "Total numero de registros: 664\n",
      "Necessitou internamento: 317\n",
      "Não Necessitou internamento: 347\n",
      "Percentual necessitou internamento: 47.74%\n"
     ]
    }
   ],
   "source": [
    "n_registros = data.shape[0]\n",
    "\n",
    "internamento_raw = data['Internamento'] \n",
    "internamento_model = np.where(internamento_raw == 'Sim', 1, 0)\n",
    "\n",
    "\n",
    "n_intenamento = np.where(internamento_raw == 'Sim', 1, 0).sum()\n",
    "n_nao_intenamento = np.where(internamento_raw == 'Nao', 1, 0).sum()\n",
    "\n",
    "internamento_percentual = float(n_intenamento * 100)/n_registros\n",
    "\n",
    "# Exibindo os resultados\n",
    "print \"Total numero de registros: {}\".format(n_registros)\n",
    "print \"Necessitou internamento: {}\".format(n_intenamento)\n",
    "print \"Não Necessitou internamento: {}\".format(n_nao_intenamento)\n",
    "print \"Percentual necessitou internamento: {:.2f}%\".format(internamento_percentual)"
   ]
  },
  {
   "cell_type": "markdown",
   "metadata": {},
   "source": [
    "** Explorando as colunas **\n",
    "* **idade**: contínuo. idade do paciente. \n",
    "* **comodos**: contínuo. número de comodos na residencia.\n",
    "* **sexo**: Sexo do Paciente. (F,M). \n",
    "* **solex**: Solicitado Exame. (Sim, Nao). \n",
    "* **ciddesc**: Descrição Cid. \n",
    "* **encesp**: Encaminhado ao especialista. (Sim, Nao).\n",
    "* **tratdom**: Tratamento de Agua no domicilio.  (Sim, Nao). \n",
    "* **energia**: Energia Elétrica no domicilio.  (Sim, Nao). \n",
    "* **habitacao**: Tipo de Contrução da moradia. (TIJOLO/ALVENARIA,MEDEIRA,OUTROS,NAO ESPECIFICADO,MATERIAL APROVEITADO)\n",
    "* **lixo**: Coleta de Lixo. (COLETADO,CÉU ABETO,NAO ESPECIFICADO,OUTROS) \n",
    "* **Fezes/Urina**: Tipo de Coleta de Fezes/urina. (SISTEMA DE ESGOTO,FOSSA SÉPTICA,CÉU ABERTO, NÃO ESPECIFICADO,OUTROS)  . \n",
    "* **Internamento**: Necessitou internamento. (Sim, Nao).\n"
   ]
  },
  {
   "cell_type": "markdown",
   "metadata": {},
   "source": [
    "----\n",
    "## Preparando os dados\n"
   ]
  },
  {
   "cell_type": "code",
   "execution_count": 112,
   "metadata": {},
   "outputs": [
    {
     "data": {
      "image/png": "[encoded data removed]",
      "text/plain": [
       "<matplotlib.figure.Figure at 0x19ec82b0>"
      ]
     },
     "metadata": {},
     "output_type": "display_data"
    }
   ],
   "source": [
    "now = datetime.now()\n",
    "data['idade'] = data['datanasc'].apply(lambda x: ((now - datetime.strptime(x, '%d/%m/%Y %H:%M') ).days / 365))\n",
    "\n",
    "data_internamento = data[data['Internamento'] =='Sim']\n",
    "data_internamento.hist(column=\"idade\",bins=50)\n",
    "\n",
    "dados_model_temp1 = data.drop('Internamento', axis = 1)\n",
    "dados_model = dados_model_temp1.drop('datanasc', axis = 1)\n",
    "\n",
    "\n"
   ]
  },
  {
   "cell_type": "markdown",
   "metadata": {},
   "source": [
    "### Normalizando atributos numéricos\n"
   ]
  },
  {
   "cell_type": "code",
   "execution_count": 113,
   "metadata": {
    "collapsed": true
   },
   "outputs": [],
   "source": [
    "from sklearn.preprocessing import MinMaxScaler\n",
    "\n",
    "scaler = MinMaxScaler()\n",
    "campos_numericos = ['Comodos', 'idade']\n",
    "\n",
    "dados_model[campos_numericos] = scaler.fit_transform(dados_model[campos_numericos])\n"
   ]
  },
  {
   "cell_type": "markdown",
   "metadata": {},
   "source": [
    "### Implementação: Pré-processamento dos dados\n",
    "\n"
   ]
  },
  {
   "cell_type": "code",
   "execution_count": 114,
   "metadata": {
    "scrolled": true
   },
   "outputs": [
    {
     "name": "stdout",
     "output_type": "stream",
     "text": [
      "286 total features after one-hot encoding.\n",
      "['Comodos', 'idade', 'Sexo_F', 'Sexo_M', 'ciddesc_ABDOME AGUDO', 'ciddesc_ABORTAMENTO HABITUAL', 'ciddesc_ABSCESSO DA GLANDULA DE BARTHOLIN', 'ciddesc_ABSCESSO PERIAMIGDALIANO', 'ciddesc_ABUSO SEXUAL', 'ciddesc_ACIDENTE VASCULAR CEREBRAL, NAO ESPECIFICADO COMO HEMORRAGICO OU ISQUEMICO', 'ciddesc_AGRESSAO POR MEIO DE FORCA CORPORAL - RESIDENCIA', 'ciddesc_ALERGIA NAO ESPECIFICADA', 'ciddesc_AMEACA DE ABORTO', 'ciddesc_AMIGDALITE AGUDA NAO ESPECIFICADA', 'ciddesc_AMIGDALITE ESTREPTOCOCICA', 'ciddesc_AMPUTACAO TRAUMATICA DE UM OUTRO DEDO APENAS (COMPLETA) (PARCIAL)', 'ciddesc_ANEMIA EM OUTRAS DOENCAS CLASSIFICADAS EM OUTRA PARTE', 'ciddesc_ANEMIA FALCIFORME SEM CRISE', 'ciddesc_ANEMIA NAO ESPECIFICADA', 'ciddesc_ANGINA PECTORIS, NAO ESPECIFICADA', 'ciddesc_APENDICITE AGUDA SEM OUTRA ESPECIFICACAO', 'ciddesc_ARTRITE NAO ESPECIFICADA', 'ciddesc_ASMA MISTA', 'ciddesc_ASMA NAO ESPECIFICADA', 'ciddesc_ASMA PREDOMINANTEMENTE ALERGICA', 'ciddesc_ATEROSCLEROSE DAS ARTERIAS DAS EXTREMIDADES', 'ciddesc_AUTO-INTOXICACAO VOLUNTARIA POR ALCOOL - LOCAL NAO ESPECIFICADO', 'ciddesc_BRONCOPNEUMONIA NAO ESPECIFICADA', 'ciddesc_BRONQUIOLITE AGUDA DEVIDA A OUTROS MICROORGANISMOS ESPECIFICADOS', 'ciddesc_BRONQUIOLITE AGUDA DEVIDA A VIRUS SINCICIAL RESPIRATORIO', 'ciddesc_BRONQUITE AGUDA DEVIDA A OUTROS MICROORGANISMOS ESPECIFICADOS', 'ciddesc_BRONQUITE AGUDA DEVIDA A RINOVIRUS', 'ciddesc_BRONQUITE AGUDA NAO ESPECIFICADA', 'ciddesc_BRONQUITE CRONICA MISTA, SIMPLES E MUCOPURULENTA', 'ciddesc_BURSITE DO OMBRO', 'ciddesc_CALCULO URETRAL', 'ciddesc_CALCULOSE DA VESICULA BILIAR COM COLICISTITE AGUDA', 'ciddesc_CALCULOSE DA VESICULA BILIAR SEM COLECISTITE', 'ciddesc_CALCULOSE DE VIA BILIAR COM COLECISTITE', 'ciddesc_CALCULOSE DE VIA BILIAR SEM COLANGITE OU COLECISTITE', 'ciddesc_CALCULOSE DO RIM', 'ciddesc_CALCULOSE DO RIM COM CALCULO DO URETER', 'ciddesc_CANDIDIASE NAO ESPECIFICADA', 'ciddesc_CARCINOMA IN SITU DA BEXIGA', 'ciddesc_CAUSAS DESCONHECIDAS E NAO ESPECIFICADAS DE MORBIDADE', 'ciddesc_CEFALEIA', 'ciddesc_CELULITE DE DEDOS DAS MAOS E DOS PES', 'ciddesc_CELULITE DE OUTRAS PARTES DO(S) MEMBRO(S)', 'ciddesc_CELULITE DE OUTROS LOCAIS', 'ciddesc_CELULITE NAO ESPECIFICADA', 'ciddesc_CERATOSE ACTINICA', 'ciddesc_CIATICA', 'ciddesc_CISTITE AGUDA', 'ciddesc_CISTO PILONIDAL COM ABSCESSO', 'ciddesc_COLECISTITE AGUDA', 'ciddesc_COLICA NEFRETICA NAO ESPECIFICADA', 'ciddesc_CONJUNTIVITE AGUDA NAO ESPECIFICADA', 'ciddesc_CONSTIPACAO', 'ciddesc_CONTRATURA DE MUSCULO', 'ciddesc_CONTUSAO DO JOELHO', 'ciddesc_CONVULSOES FEBRIS', 'ciddesc_CORPO ESTRANHO NA LARINGE', 'ciddesc_CORPO ESTRANHO NO OUVIDO', 'ciddesc_CUIDADO MEDICO NAO ESPECIFICADO', 'ciddesc_DELIRIUM NAO ESPECIFICADO', 'ciddesc_DELIRIUM SUPERPOSTO A UMA DEMENCIA', 'ciddesc_DERMATITE ALERGICA DE CONTATO DEVIDA A ALIMENTOS EM CONTATO COM A PELE', 'ciddesc_DIABETES MELLITUS INSULINO-DEPENDENTE - SEM COMPLICACOES', 'ciddesc_DIABETES MELLITUS NAO ESPECIFICADO - COM COMPLICACOES NAO ESPECIFICADAS', 'ciddesc_DIABETES MELLITUS NAO ESPECIFICADO - SEM COMPLICACOES', 'ciddesc_DIABETES MELLITUS NAO-INSULINO-DEPENDENTE - COM COMPLICACOES NAO ESPECIFICADAS', 'ciddesc_DIABETES MELLITUS NAO-INSULINO-DEPENDENTE - SEM COMPLICACOES', 'ciddesc_DIARREIA E GASTROENTERITE DE ORIGEM INFECCIOSA PRESUMIVEL', 'ciddesc_DISFASIA E AFASIA', 'ciddesc_DISPEPSIA', 'ciddesc_DISPNEIA', 'ciddesc_DISURIA', 'ciddesc_DOENCA CARDIACA HIPERTENSIVA COM INSUFICIENCIA CARDIACA (CONGESTIVA)', 'ciddesc_DOENCA DE PARKINSON', 'ciddesc_DOENCA NAO ESPECIFICADA DAS VIAS AEREAS SUPERIORES', 'ciddesc_DOENCA PULMONAR OBSTRUTIVA CRONICA COM EXACERBACAO AGUDA NAO ESPECIFICADA', 'ciddesc_DOENCA PULMONAR OBSTRUTIVA CRONICA COM INFECCAO RESPIRATORIA AGUDA DO TRATO RESPIRATORIO INFERIOR', 'ciddesc_DOENCA PULMONAR OBSTRUTIVA CRONICA NAO ESPECIFICADA', 'ciddesc_DOENCAS INFECCIOSAS, OUTRAS E AS NAO ESPECIFICADAS', 'ciddesc_DOR AGUDA', 'ciddesc_DOR ARTICULAR', 'ciddesc_DOR DE GARGANTA', 'ciddesc_DOR EM MEMBRO', 'ciddesc_DOR LOCALIZADA EM OUTRAS PARTES DO ABDOME INFERIOR', 'ciddesc_DOR LOCALIZADA NO ABDOME SUPERIOR', 'ciddesc_DOR LOMBAR BAIXA', 'ciddesc_DOR NAO ESPECIFICADA', 'ciddesc_DOR PRECORDIAL', 'ciddesc_DOR TORACICA, NAO ESPECIFICADA', 'ciddesc_DORSALGIA NAO ESPECIFICADA', 'ciddesc_EDEMA NAO ESPECIFICADO', 'ciddesc_EMBOLIA E TROMBOSE DE ARTERIA NAO ESPECIFICADA', 'ciddesc_EMBOLIA E TROMBOSE DE ARTERIAS DOS MEMBROS INFERIORES', 'ciddesc_EMBOLIA E TROMBOSE DE OUTRAS VEIAS ESPECIFICADAS', 'ciddesc_EMBOLIA E TROMBOSE VENOSAS DE VEIA NAO ESPECIFICADA', 'ciddesc_EMISSAO DE PRESCRICAO DE REPETICAO', 'ciddesc_ENXAQUECA COM AURA [ENXAQUECA CLASSICA]', 'ciddesc_ENXAQUECA, SEM ESPECIFICACAO', 'ciddesc_EPILEPSIA, NAO ESPECIFICADA', 'ciddesc_EPISODIO DEPRESSIVO GRAVE COM SINTOMAS PSICOTICOS', 'ciddesc_EPISODIO DEPRESSIVO GRAVE SEM SINTOMAS PSICOTICOS', 'ciddesc_EPISODIO DEPRESSIVO LEVE', 'ciddesc_EPISODIO DEPRESSIVO NAO ESPECIFICADO', 'ciddesc_ERISIPELA', 'ciddesc_EXAME DE ROTINA DE SAUDE DA CRIANCA', 'ciddesc_EXAME DE SEGUIMENTO APOS OUTRO TRATAMENTO POR OUTRAS AFECCOES', 'ciddesc_EXAME DE SEGUIMENTO APOS TRATAMENTO NAO ESPECIFICADO POR OUTRAS AFECCOES', 'ciddesc_EXAME DOS OLHOS E DA VISAO', 'ciddesc_EXAME E OBSERVACAO POR OUTRAS RAZOES ESPECIFICADAS', 'ciddesc_EXAME ESPECIAL DE RASTREAMENTO DE NEOPLASIA DO COLO DO UTERO', 'ciddesc_EXAME ESPECIAL DE RASTREAMENTO DE NEOPLASIA NAO ESPECIFICADA', 'ciddesc_EXAME GINECOLOGICO (GERAL) (DE ROTINA)', 'ciddesc_EXAME MEDICO GERAL', 'ciddesc_EXAME NAO ESPECIFICADO COM FINALIDADES ADMINISTRATIVAS', 'ciddesc_FARINGITE AGUDA NAO ESPECIFICADA', 'ciddesc_FEBRE NAO ESPECIFICADA', 'ciddesc_FERIMENTO DE DEDO(S) COM LESAO DA UNHA', 'ciddesc_FIBROMIALGIA', 'ciddesc_FISTULA ANAL', 'ciddesc_FLEBITE E TROMBOFLEBITE DOS MEMBROS INFERIORES, NAO ESPECIFICADA', 'ciddesc_FLUTTER E FIBRILACAO ATRIAL', 'ciddesc_GANGRENA NAO CLASSIFICADA EM OUTRA PARTE', 'ciddesc_GASTRITE NAO ESPECIFICADA', 'ciddesc_GLAUCOMA NAO ESPECIFICADO', 'ciddesc_GONARTROSE NAO ESPECIFICADA', 'ciddesc_GONARTROSE POS-TRAUMATICA BILATERAL', 'ciddesc_HEMATEMESE', 'ciddesc_HEMATURIA NAO ESPECIFICADA', 'ciddesc_HEMORRAGIA GASTROINTESTINAL, SEM OUTRA ESPECIFICACAO', 'ciddesc_HEPATITE REATIVA NAO-ESPECIFICA', 'ciddesc_HERNIA UMBILICAL COM OBSTRUCAO, SEM GANGRENA', 'ciddesc_HERNIA UMBILICAL SEM OBSTRUCAO OU GANGRENA', 'ciddesc_HIPERGLICEMIA NAO ESPECIFICADA', 'ciddesc_HIPERGLICERIDEMIA PURA', 'ciddesc_HIPERTENSAO ESSENCIAL (PRIMARIA)', 'ciddesc_HIPERTENSAO SECUNDARIA, NAO ESPECIFICADA', 'ciddesc_HIPERTROFIA DAS AMIGDALAS', 'ciddesc_HIPOTIREOIDISMO NAO ESPECIFICADO', 'ciddesc_ICTERICIA NAO ESPECIFICADA', 'ciddesc_INFARTO AGUDO DO MIOCARDIO NAO ESPECIFICADO', 'ciddesc_INFECCAO AGUDA DAS VIAS AEREAS SUPERIORES NAO ESPECIFICADA', 'ciddesc_INFECCAO BACTERIANA NAO ESPECIFICADA', 'ciddesc_INFECCAO DO TRATO URINARIO DE LOCALIZACAO NAO ESPECIFICADA', 'ciddesc_INFECCAO INTESTINAL DEVIDA A VIRUS NAO ESPECIFICADO', 'ciddesc_INFECCAO LOCALIZADA DA PELE E DO TECIDO SUBCUTANEO, NAO ESPECIFICADA', 'ciddesc_INFECCOES AGUDAS NAO ESPECIFICADA DAS VIAS AEREAS INFERIORES', 'ciddesc_INFLUENZA COM OUTRAS MANIFESTACOES, DEVIDA A OUTRO VIRUS DA INFLUENZA [GRIPE] IDENTIFICADO', 'ciddesc_INFLUENZA [GRIPE] COM OUTRAS MANIFESTACOES RESPIRATORIAS, DEVIDA A VIRUS NAO IDENTIFICADO', 'ciddesc_INFLUENZA [GRIPE] COM OUTRAS MANIFESTACOES, DEVIDA A VIRUS NAO IDENTIFICADO', 'ciddesc_INSONIA NAO-ORGANICA', 'ciddesc_INSUFICIENCIA CARDIACA CONGESTIVA', 'ciddesc_INSUFICIENCIA CARDIACA NAO ESPECIFICADA', 'ciddesc_INSUFICIENCIA VENOSA (CRONICA) (PERIFERICA)', 'ciddesc_INTOXICACAO POR BENZODIAZEPINAS', 'ciddesc_INTOXICACAO POR OUTRAS DROGAS, MEDICAMENTOS E SUBSTANCIAS BIOLOGICAS E AS NAO ESPECIFICADAS', 'ciddesc_LABIRINTITE', 'ciddesc_LARINGITE AGUDA', 'ciddesc_LENTIDAO E BAIXA REATIVIDADE', 'ciddesc_LEPTOSPIROSE NAO ESPECIFICADA', 'ciddesc_LEUCEMIA AGUDA DE TIPO CELULAR NAO ESPECIFICADO', 'ciddesc_LUMBAGO COM CIATICA', 'ciddesc_MAL ESTAR, FADIGA', 'ciddesc_MENINGISMO', 'ciddesc_MENINGITE NAO ESPECIFICADA', 'ciddesc_MENSTRUACAO IRREGULAR, NAO ESPECIFICADA', 'ciddesc_MIALGIA', 'ciddesc_NANISMO, NAO CLASSIFICADO EM OUTRA PARTE', 'ciddesc_NASOFARINGITE AGUDA [RESFRIADO COMUM]', 'ciddesc_NAUSEA E VOMITOS', 'ciddesc_NEFRITE TUBULO-INTERSTICIAL AGUDA', 'ciddesc_NERVOSISMO', 'ciddesc_NEVRALGIA DO TRIGEMEO', 'ciddesc_OBESIDADE DEVIDA A EXCESSO DE CALORIAS', 'ciddesc_OBESIDADE NAO ESPECIFICADA', 'ciddesc_OBTENCAO DE ATESTADO MEDICO', 'ciddesc_OSTEOMIELITE NAO ESPECIFICADA', 'ciddesc_OTALGIA', 'ciddesc_OTITE MEDIA AGUDA SEROSA', 'ciddesc_OTITE MEDIA AGUDA SUPURATIVA', 'ciddesc_OTITE MEDIA NAO ESPECIFICADA', 'ciddesc_OUTRA DOR CRONICA', 'ciddesc_OUTRA DOR TORACICA', 'ciddesc_OUTRA OBESIDADE', 'ciddesc_OUTRAS AFECCOES ESPECIFICADAS DA PELE E DO TECIDO SUBCUTANEO EM DOENCAS CLASSIFICADAS EM OUTRA PARTE', 'ciddesc_OUTRAS ALTERACOES DA PELE DEVIDAS A EXPOSICAO CRONICA A RADIACAO NAO-IONIZANTE', 'ciddesc_OUTRAS ANEMIAS POR DEFICIENCIA DE FERRO', 'ciddesc_OUTRAS COLELITIASES', 'ciddesc_OUTRAS CONVULSOES E AS NAO ESPECIFICADAS', 'ciddesc_OUTRAS DORES ABDOMINAIS E AS NAO ESPECIFICADAS', 'ciddesc_OUTRAS FORMAS DE PARALISIA CEREBRAL', 'ciddesc_OUTRAS FORMAS DE PRURIDO', 'ciddesc_OUTRAS HEMORRAGIAS DO INICIO DA GRAVIDEZ', 'ciddesc_OUTRAS PANCREATITES AGUDAS', 'ciddesc_OUTRAS PNEUMONIAS BACTERIANAS', 'ciddesc_OUTROS EXAMES GERAIS', 'ciddesc_OUTROS EXAMES PARA PROPOSITOS ADMINISTRATIVOS', 'ciddesc_OUTROS SINTOMAS E SINAIS GERAIS ESPECIFICADOS', 'ciddesc_OUTROS TIPOS ESPECIFICADOS DE DIABETES MELLITUS - COM COMPLICACOES NEUROLOGICAS', 'ciddesc_OUTROS TRANSTORNOS ESPECIFICADOS DA TIREOIDE', 'ciddesc_PANCREATITE AGUDA', 'ciddesc_PARESTESIAS CUTANEAS', 'ciddesc_PERFURACAO NAO ESPECIFICADA DA MEMBRANA DO TIMPANO', 'ciddesc_PESSOA EM BOA SAUDE ACOMPANHANDO PESSOA DOENTE', 'ciddesc_PESSOA QUE CONSULTA NO INTERESSE DE UM TERCEIRO', 'ciddesc_PESSOA QUE CONSULTA PARA EXPLICACAO DE ACHADOS DE EXAME', 'ciddesc_PNEUMONIA EM DOENCAS BACTERIANAS CLASSIFICADAS EM OUTRA PARTE', 'ciddesc_PNEUMONIA NAO ESPECIFICADA', 'ciddesc_PRESBIOPIA', 'ciddesc_PROCEDIMENTO NAO REALIZADO DEVIDO A DECISAO DO PACIENTE POR OUTRAS RAZOES E AS NAO ESPECIFICADAS', 'ciddesc_PROCEDIMENTO NAO REALIZADO POR OUTRAS RAZOES', 'ciddesc_PROCEDIMENTO NAO REALIZADO POR RAZAO NAO ESPECIFICADA', 'ciddesc_PROLAPSO ANAL', 'ciddesc_PSORIASE NAO ESPECIFICADA', 'ciddesc_QUEIMADURA, PARTE DO CORPO NAO ESPECIFICADA, GRAU NAO ESPECIFICADO', 'ciddesc_REUMATISMO NAO ESPECIFICADO', 'ciddesc_RINITE ALERGICA NAO ESPECIFICADA', 'ciddesc_SANGRAMENTO ANORMAL DO UTERO OU DA VAGINA, NAO ESPECIFICADO', 'ciddesc_SIFILIS NAO ESPECIFICADA', 'ciddesc_SINUSITE AGUDA NAO ESPECIFICADA', 'ciddesc_SUPERVISAO DE GRAVIDEZ NORMAL, NAO ESPECIFICADA', 'ciddesc_SUPERVISAO DE OUTRA GRAVIDEZ NORMAL', 'ciddesc_SUPERVISAO DE PRIMEIRA GRAVIDEZ NORMAL', 'ciddesc_TONTURA E INSTABILIDADE', 'ciddesc_TORCAO DO TESTICULO', 'ciddesc_TOSSE', 'ciddesc_TRANST. MENTAIS/COMPORT. DEV. USO MULT. DROGAS/OUT. PSICOATIVAS - INTOXICACAO AGUDA', 'ciddesc_TRANST. MENTAIS/COMPORT. DEV. USO MULT. DROGAS/OUT. PSICOATIVAS - SINDROME DE ABSTINENCIA', 'ciddesc_TRANST. MENTAIS/COMPORT. DEV. USO MULT. DROGAS/OUT. PSICOATIVAS - SINDROME DE DEPENDENCIA', 'ciddesc_TRANST. MENTAIS/COMPORT. DEV. USO MULT. DROGAS/OUT. PSICOATIVAS - TRANST. MENTAL/COMPORT. NAO ESPECIF.', 'ciddesc_TRANSTORNO AFETIVO BIPOLAR NAO ESPECIFICADO', 'ciddesc_TRANSTORNO AFETIVO BIPOLAR, EPISODIO ATUAL DEPRESSIVO GRAVE COM SINTOMAS PSICOTICOS', 'ciddesc_TRANSTORNO AFETIVO BIPOLAR, EPISODIO ATUAL MISTO', 'ciddesc_TRANSTORNO ANSIOSO NAO ESPECIFICADO', 'ciddesc_TRANSTORNO DEPRESSIVO RECORRENTE, EPISODIO ATUAL GRAVE SEM SINTOMAS PSICOTICOS', 'ciddesc_TRANSTORNO ESQUIZOAFETIVO DO TIPO DEPRESSIVO', 'ciddesc_TRANSTORNOS DO TESTICULO E DO EPIDIDIMO EM DOENCAS CLASSIFICADAS EM OUTRA PARTE', 'ciddesc_TRANSTORNOS MENTAIS E COMPORT. DEV. USO COCAINA - OUTROS TRANSTORNOS MENTAIS OU COMPORTAMENTAIS', 'ciddesc_TRANSTORNOS MENTAIS E COMPORT. DEV. USO COCAINA - SINDROME DE DEPENDENCIA', 'ciddesc_TRANSTORNOS MENTAIS E COMPORT. DEV. USO FUMO - SINDROME DE DEPENDENCIA', 'ciddesc_TRANSTORNOS MENTAIS E COMPORT. DEVIDOS USO DE ALCOOL - INTOXICACAO AGUDA', 'ciddesc_TRANSTORNOS MENTAIS E COMPORT. DEVIDOS USO DE ALCOOL - SINDROME DE DEPENDENCIA', 'ciddesc_TRANSTORNOS MENTAIS E COMPORT. DEVIDOS USO DE ALCOOL - TRANSTORNO PSICOTICO', 'ciddesc_TRANSTORNOS MENTAIS E COMPORT. DEVIDOS USO DE ALCOOL - USO NOCIVO PARA A SAUDE', 'ciddesc_TRANSTORNOS RESPIRATORIOS EM OUTRAS DOENCAS CLASSIFICADAS EM OUTRA PARTE', 'ciddesc_TRAUMATISMO NAO ESPECIFICADO DO QUADRIL E DA COXA', 'ciddesc_TRAUMATISMO SUPERFICIAL DE REGIAO NAO ESPECIFICADA DO CORPO', 'ciddesc_TREMOR NAO ESPECIFICADO', 'ciddesc_UNHA ENCRAVADA', 'ciddesc_URTICARIA NAO ESPECIFICADA', 'ciddesc_VAGINITE AGUDA', 'ciddesc_VALOR ELEVADO DA PRESSAO ARTERIAL SEM O DIAGNOSTICO DE HIPERTENSAO', 'ciddesc_VARIZES DOS MEMBROS INFERIORES COM ULCERA E INFLAMACAO', 'ciddesc_VARIZES DOS MEMBROS INFERIORES SEM ULCERA OU INFLAMACAO', 'ciddesc_VASCULOPATIA NECROTIZANTE NAO ESPECIFICADA', 'ciddesc_VERRUGAS DE ORIGEM VIRAL', 'solex_Nao', 'solex_Sim', 'encesp_Nao', 'encesp_Sim', 'tratdom_CLORACAO', 'tratdom_FERVURA', 'tratdom_FILTRACAO', 'tratdom_NAO ESPECIFICADO', 'tratdom_SEM TRATAMENTO', 'energia_Nao', 'energia_Sim', 'habitacao_MADEIRA APARELHADA', 'habitacao_MATERIAL APROVEITADO', 'habitacao_NAO ESPECIFICADO', 'habitacao_OUTRO MATERIAL', 'habitacao_TIJOLO ALVENARIA SEM REVESTIMENTO', 'habitacao_TIJOLO/ALVENARIA COM REVESTIMENTO', 'lixo_COLETADO', 'lixo_C\\xc9U ABERTO', 'lixo_NAO ESPECIFICADO', 'lixo_OUTROS', 'Fezes/Urina_C\\xc9U ABERTO', 'Fezes/Urina_FOSSA S\\xc9PTICA', 'Fezes/Urina_NAO ESPECIFICADO', 'Fezes/Urina_OUTROS', 'Fezes/Urina_SISTEMA DE ESGOTO']\n"
     ]
    }
   ],
   "source": [
    "dados_model_final = pd.get_dummies(dados_model)\n",
    "dados_model_final\n",
    "\n",
    "encoded = list(dados_model_final.columns)\n",
    "print \"{} total features after one-hot encoding.\".format(len(encoded))\n",
    "\n",
    "print encoded"
   ]
  },
  {
   "cell_type": "markdown",
   "metadata": {},
   "source": [
    "### Embaralhar e dividir os dados\n"
   ]
  },
  {
   "cell_type": "code",
   "execution_count": 115,
   "metadata": {},
   "outputs": [
    {
     "name": "stdout",
     "output_type": "stream",
     "text": [
      "Conjunto de Treino: 531\n",
      "Conjunto de Teste: 133\n"
     ]
    }
   ],
   "source": [
    "from sklearn.cross_validation import train_test_split\n",
    "\n",
    "X_train, X_test, y_train, y_test = train_test_split(dados_model_final, \n",
    "                                                    internamento_model, \n",
    "                                                    test_size = 0.2, \n",
    "                                                    random_state = 0)\n",
    "\n",
    "# Show the results of the split\n",
    "print \"Conjunto de Treino: {}\".format(X_train.shape[0])\n",
    "print \"Conjunto de Teste: {}\".format(X_test.shape[0])"
   ]
  },
  {
   "cell_type": "code",
   "execution_count": 116,
   "metadata": {
    "collapsed": true
   },
   "outputs": [],
   "source": [
    "from sklearn.metrics import confusion_matrix\n",
    "from sklearn.metrics import classification_report\n",
    "#X - Preditor\n",
    "#y - classe\n",
    "def train_predict(learner, sample_size, X_train, y_train, X_test, y_test, X_prod, y_prod): \n",
    "\n",
    "    \n",
    "    results = {}\n",
    "    \n",
    "    start = time() \n",
    "    learner = learner.fit(X_train[:int(sample_size)], y_train[:int(sample_size)])\n",
    "    end = time() \n",
    "    \n",
    "    results['train_time'] = end - start\n",
    "        \n",
    "    start = time() \n",
    "    predictions_test = learner.predict(X_test)\n",
    "    predictions_train = learner.predict(X_train)\n",
    "    end = time() \n",
    "    \n",
    "    results['pred_time'] = end - start\n",
    "    \n",
    "    report = classification_report(y_test, predictions_test)\n",
    "    print('-----------------------------')\n",
    "    print('report')\n",
    "    print(report)\n",
    "    print('-----------------------------')\n",
    "    \n",
    "    from sklearn.metrics import accuracy_score\n",
    "            \n",
    "    results['acc_train'] = accuracy_score(y_train, predictions_train)\n",
    "        \n",
    "    ac_teste = accuracy_score(y_test, predictions_test)\n",
    "    \n",
    "    matrix = confusion_matrix(y_test, predictions_test)\n",
    "\n",
    "    # Imprimindo a Confusion Matrix\n",
    "    print('matrix confusao teste:')\n",
    "    print(matrix)\n",
    "    print(' ')\n",
    "    \n",
    "    \n",
    "    results['acc_test'] =  ac_teste\n",
    "    \n",
    "    \n",
    "    from sklearn.metrics import fbeta_score\n",
    "    \n",
    "    results['f_train'] =  fbeta_score(predictions_train, y_train, beta=2)\n",
    "        \n",
    "    fbs_teste =  fbeta_score(predictions_test, y_test, beta=2)\n",
    "    results['f_test'] = fbs_teste\n",
    "       \n",
    "    # Success\n",
    "    print(\"{} registros treinados = {}\".format(learner.__class__.__name__, sample_size))\n",
    "    print(\"{} acuracia teste= {}\".format(learner.__class__.__name__,ac_teste))\n",
    "    print(\"{} f-score(2) teste= {}\".format(learner.__class__.__name__,fbs_teste))\n",
    "        \n",
    "    # Return the results\n",
    "    return results"
   ]
  },
  {
   "cell_type": "markdown",
   "metadata": {},
   "source": [
    "----\n",
    "## Avaliando a performance do modelo\n",
    "\n",
    "Como não temos um modelo real utilizarei o modelo DummyClassifier do sklearn como modelo de referência para verificarmos e compararmos se o modelo escolhido realmente apresenta uma performance melhor que uma metologia aleatória.\n",
    "DummyClassifier é um classificador que faz previsões usando regras simples.  Esse classificador é útil como uma linha de base simples para comparar com outros classificadores (reais). Não deve ser usado para problemas reais conforme indicado na documentação do método: http://scikit-learn.org/stable/modules/generated/sklearn.dummy.DummyClassifier.html.\n",
    "\n"
   ]
  },
  {
   "cell_type": "code",
   "execution_count": 117,
   "metadata": {},
   "outputs": [
    {
     "name": "stdout",
     "output_type": "stream",
     "text": [
      "-----------------------------\n",
      "report\n",
      "             precision    recall  f1-score   support\n",
      "\n",
      "          0       0.00      0.00      0.00        69\n",
      "          1       0.48      1.00      0.65        64\n",
      "\n",
      "avg / total       0.23      0.48      0.31       133\n",
      "\n",
      "-----------------------------\n",
      "matrix confusao teste:\n",
      "[[ 0 69]\n",
      " [ 0 64]]\n",
      " \n",
      "DummyClassifier registros treinados = 531\n",
      "DummyClassifier acuracia teste= 0.481203007519\n",
      "DummyClassifier f-score(2) teste= 0.536912751678\n"
     ]
    },
    {
     "data": {
      "text/plain": [
       "{'acc_test': 0.48120300751879697,\n",
       " 'acc_train': 0.47645951035781542,\n",
       " 'f_test': 0.53691275167785235,\n",
       " 'f_train': 0.5321834244846444,\n",
       " 'pred_time': 0.0,\n",
       " 'train_time': 0.0}"
      ]
     },
     "execution_count": 117,
     "metadata": {},
     "output_type": "execute_result"
    }
   ],
   "source": [
    "from time import time\n",
    "from sklearn.dummy import DummyClassifier\n",
    "\n",
    "\n",
    "\n",
    "clf_A = DummyClassifier(strategy='constant',random_state=999,constant=1) \n",
    "\n",
    "samples = len(y_train)\n",
    "\n",
    "results = {}\n",
    "\n",
    "clf_name = clf_A.__class__.__name__\n",
    "results[clf_name] = {}\n",
    "\n",
    "train_predict(clf_A, samples, X_train, y_train, X_test, y_test, dados_model_final,internamento_model)\n",
    "        \n"
   ]
  },
  {
   "cell_type": "code",
   "execution_count": 118,
   "metadata": {},
   "outputs": [
    {
     "name": "stdout",
     "output_type": "stream",
     "text": [
      "-----------------------------\n",
      "report\n",
      "             precision    recall  f1-score   support\n",
      "\n",
      "          0       0.88      0.81      0.84        69\n",
      "          1       0.81      0.88      0.84        64\n",
      "\n",
      "avg / total       0.84      0.84      0.84       133\n",
      "\n",
      "-----------------------------\n",
      "matrix confusao teste:\n",
      "[[56 13]\n",
      " [ 8 56]]\n",
      " \n",
      "RandomForestClassifier registros treinados = 531\n",
      "RandomForestClassifier acuracia teste= 0.842105263158\n",
      "RandomForestClassifier f-score(2) teste= 0.823529411765\n"
     ]
    },
    {
     "data": {
      "text/plain": [
       "{'acc_test': 0.84210526315789469,\n",
       " 'acc_train': 0.9792843691148776,\n",
       " 'f_test': 0.82352941176470595,\n",
       " 'f_train': 0.98860862489829149,\n",
       " 'pred_time': 0.016000032424926758,\n",
       " 'train_time': 0.06200003623962402}"
      ]
     },
     "execution_count": 118,
     "metadata": {},
     "output_type": "execute_result"
    }
   ],
   "source": [
    "from time import time\n",
    "from sklearn.ensemble import RandomForestClassifier \n",
    "from sklearn.naive_bayes import GaussianNB\n",
    "from sklearn.linear_model import LogisticRegression\n",
    "from sklearn.ensemble import AdaBoostClassifier\n",
    "from sklearn.ensemble import GradientBoostingClassifier\n",
    "from sklearn.tree import DecisionTreeClassifier\n",
    "from sklearn.svm import SVC\n",
    "from sklearn.dummy import DummyClassifier\n",
    "\n",
    "\n",
    "\n",
    "clf_RandomForest = RandomForestClassifier(random_state=999)\n",
    "\n",
    "\n",
    "registros = len(y_train)\n",
    "\n",
    "# Colete os resultados dos algoritmos de aprendizado\n",
    "results = {}\n",
    "clf_name = clf_RandomForest.__class__.__name__\n",
    "results[clf_name] = {}\n",
    "train_predict(clf_RandomForest, registros, X_train, y_train, X_test, y_test, dados_model_final,internamento_model)\n",
    "        \n"
   ]
  },
  {
   "cell_type": "markdown",
   "metadata": {},
   "source": [
    "## Avaliando a importância dos atributos"
   ]
  },
  {
   "cell_type": "code",
   "execution_count": 119,
   "metadata": {},
   "outputs": [
    {
     "data": {
      "text/html": [
       "<div>\n",
       "<style>\n",
       "    .dataframe thead tr:only-child th {\n",
       "        text-align: right;\n",
       "    }\n",
       "\n",
       "    .dataframe thead th {\n",
       "        text-align: left;\n",
       "    }\n",
       "\n",
       "    .dataframe tbody tr th {\n",
       "        vertical-align: top;\n",
       "    }\n",
       "</style>\n",
       "<table border=\"1\" class=\"dataframe\">\n",
       "  <thead>\n",
       "    <tr style=\"text-align: right;\">\n",
       "      <th></th>\n",
       "      <th>importancia</th>\n",
       "    </tr>\n",
       "    <tr>\n",
       "      <th>feature</th>\n",
       "      <th></th>\n",
       "    </tr>\n",
       "  </thead>\n",
       "  <tbody>\n",
       "    <tr>\n",
       "      <th>Com Solicitacao Exame</th>\n",
       "      <td>0.195</td>\n",
       "    </tr>\n",
       "    <tr>\n",
       "      <th>Sem Solicitacao Exame</th>\n",
       "      <td>0.119</td>\n",
       "    </tr>\n",
       "    <tr>\n",
       "      <th>idade</th>\n",
       "      <td>0.081</td>\n",
       "    </tr>\n",
       "    <tr>\n",
       "      <th>Comodos</th>\n",
       "      <td>0.056</td>\n",
       "    </tr>\n",
       "    <tr>\n",
       "      <th>Nao Encaminhado Especialista</th>\n",
       "      <td>0.038</td>\n",
       "    </tr>\n",
       "    <tr>\n",
       "      <th>Diagnostico EXAME MEDICO GERAL</th>\n",
       "      <td>0.031</td>\n",
       "    </tr>\n",
       "    <tr>\n",
       "      <th>Encaminhado Especialista</th>\n",
       "      <td>0.024</td>\n",
       "    </tr>\n",
       "    <tr>\n",
       "      <th>Diagnostico TRANST. MENTAIS/COMPORT. DEV. USO MULT. DROGAS/OUT. PSICOATIVAS - SINDROME DE DEPENDENCIA</th>\n",
       "      <td>0.018</td>\n",
       "    </tr>\n",
       "    <tr>\n",
       "      <th>Diagnostico OUTRAS DORES ABDOMINAIS E AS NAO ESPECIFICADAS</th>\n",
       "      <td>0.017</td>\n",
       "    </tr>\n",
       "    <tr>\n",
       "      <th>habitacao_MADEIRA APARELHADA</th>\n",
       "      <td>0.010</td>\n",
       "    </tr>\n",
       "    <tr>\n",
       "      <th>Tratamento Agua Filtracao</th>\n",
       "      <td>0.010</td>\n",
       "    </tr>\n",
       "    <tr>\n",
       "      <th>Tratamento Agua Cloracao</th>\n",
       "      <td>0.010</td>\n",
       "    </tr>\n",
       "    <tr>\n",
       "      <th>Diagnostico SUPERVISAO DE GRAVIDEZ NORMAL, NAO ESPECIFICADA</th>\n",
       "      <td>0.010</td>\n",
       "    </tr>\n",
       "    <tr>\n",
       "      <th>Diagnostico INFECCAO AGUDA DAS VIAS AEREAS SUPERIORES NAO ESPECIFICADA</th>\n",
       "      <td>0.010</td>\n",
       "    </tr>\n",
       "    <tr>\n",
       "      <th>Fezes/Urina_SISTEMA DE ESGOTO</th>\n",
       "      <td>0.010</td>\n",
       "    </tr>\n",
       "  </tbody>\n",
       "</table>\n",
       "</div>"
      ],
      "text/plain": [
       "                                                    importancia\n",
       "feature                                                        \n",
       "Com Solicitacao Exame                                     0.195\n",
       "Sem Solicitacao Exame                                     0.119\n",
       "idade                                                     0.081\n",
       "Comodos                                                   0.056\n",
       "Nao Encaminhado Especialista                              0.038\n",
       "Diagnostico EXAME MEDICO GERAL                            0.031\n",
       "Encaminhado Especialista                                  0.024\n",
       "Diagnostico TRANST. MENTAIS/COMPORT. DEV. USO M...        0.018\n",
       "Diagnostico OUTRAS DORES ABDOMINAIS E AS NAO ES...        0.017\n",
       "habitacao_MADEIRA APARELHADA                              0.010\n",
       "Tratamento Agua Filtracao                                 0.010\n",
       "Tratamento Agua Cloracao                                  0.010\n",
       "Diagnostico SUPERVISAO DE GRAVIDEZ NORMAL, NAO ...        0.010\n",
       "Diagnostico INFECCAO AGUDA DAS VIAS AEREAS SUPE...        0.010\n",
       "Fezes/Urina_SISTEMA DE ESGOTO                             0.010"
      ]
     },
     "execution_count": 119,
     "metadata": {},
     "output_type": "execute_result"
    }
   ],
   "source": [
    "def define_nome_coluna(col):\n",
    "    if col == 'solex_Sim':\n",
    "        return 'Com Solicitacao Exame'\n",
    "    elif col == 'solex_Nao':\n",
    "        return 'Sem Solicitacao Exame'\n",
    "    elif col == 'encesp_Nao':\n",
    "        return 'Nao Encaminhado Especialista'\n",
    "    elif col == 'encesp_Nao':\n",
    "        return 'Nao Encaminhado Especialista'\n",
    "    elif col == 'encesp_Sim':\n",
    "        return 'Encaminhado Especialista'\n",
    "    elif col == 'tratdom_FILTRACAO':\n",
    "        return 'Tratamento Agua Filtracao'\n",
    "    elif col == 'tratdom_CLORACAO':\n",
    "        return 'Tratamento Agua Cloracao'\n",
    "    return  col.replace(\"ciddesc_\", \"Diagnostico \")  \n",
    "\n",
    "importances = pd.DataFrame({'feature':X_train.columns,'importancia':np.round(clf_RandomForest.feature_importances_,3)})\n",
    "importances = importances.sort_values('importancia',ascending=False).set_index('feature')\n",
    "#importances['feature'] = importances['feature'].map(define_nome_coluna)\n",
    "importances = importances.rename(lambda x: define_nome_coluna(x))\n",
    "importances.head(15)"
   ]
  },
  {
   "cell_type": "code",
   "execution_count": 120,
   "metadata": {},
   "outputs": [
    {
     "data": {
      "text/plain": [
       "<matplotlib.axes._subplots.AxesSubplot at 0x1f12e358>"
      ]
     },
     "execution_count": 120,
     "metadata": {},
     "output_type": "execute_result"
    },
    {
     "data": {
      "image/png": "[encoded data removed]",
      "text/plain": [
       "<matplotlib.figure.Figure at 0xee262e8>"
      ]
     },
     "metadata": {},
     "output_type": "display_data"
    }
   ],
   "source": [
    "importancesf = pd.DataFrame(importances[:15])\n",
    "importancesf.plot.bar()"
   ]
  },
  {
   "cell_type": "markdown",
   "metadata": {},
   "source": [
    "----\n",
    "## Melhorando os resultados\n"
   ]
  },
  {
   "cell_type": "markdown",
   "metadata": {},
   "source": [
    "### Implementação: Tuning do modelo\n"
   ]
  },
  {
   "cell_type": "code",
   "execution_count": 121,
   "metadata": {},
   "outputs": [
    {
     "name": "stdout",
     "output_type": "stream",
     "text": [
      "Melhor estimador:\n",
      "------\n",
      "RandomForestClassifier(bootstrap=False, class_weight=None, criterion='gini',\n",
      "            max_depth=3, max_features=20, max_leaf_nodes=None,\n",
      "            min_impurity_split=1e-07, min_samples_leaf=1,\n",
      "            min_samples_split=2, min_weight_fraction_leaf=0.0,\n",
      "            n_estimators=15, n_jobs=1, oob_score=False, random_state=999,\n",
      "            verbose=0, warm_start=False)\n",
      "Modelo não otimizado\n",
      "------\n",
      "Acuracia dos dados de teste: 0.8421\n",
      "F-score dos dados de teste: 0.8615\n",
      "\n",
      "Modelo Otimizado\n",
      "------\n",
      "Acuracia dos dados de teste: 0.8571\n",
      "F-score dos dados de teste: 0.8869\n"
     ]
    }
   ],
   "source": [
    "from sklearn.model_selection import GridSearchCV\n",
    "from sklearn.ensemble import RandomForestClassifier \n",
    "from sklearn.metrics import accuracy_score\n",
    "from sklearn.metrics import fbeta_score, make_scorer\n",
    "\n",
    "clf_comum = RandomForestClassifier(random_state=999)\n",
    "\n",
    "\n",
    "parameters = {\"criterion\": ['gini','entropy'],\n",
    "              \"max_features\":[5,10,15,20,'auto'],\n",
    "              \"max_depth\":[1, 2, 3, 10],\n",
    "              \"n_estimators\" : [1,2, 3, 10, 15,20],\n",
    "              \"bootstrap\" : [True,False],\n",
    "              \"random_state\" : [999]}\n",
    "\n",
    "\n",
    "scorer = make_scorer(fbeta_score, beta=2)\n",
    "\n",
    "grid_obj = GridSearchCV(clf_comum,param_grid=parameters,scoring=scorer)\n",
    "\n",
    "grid_fit = grid_obj.fit(X_train, y_train)\n",
    "\n",
    "clf_otimizado = grid_fit.best_estimator_\n",
    "\n",
    "print \"Melhor estimador:\\n------\"\n",
    "print(clf_otimizado)\n",
    "\n",
    "predicao_comum = (clf_comum.fit(X_train, y_train)).predict(X_test)\n",
    "predicao_otimizada = clf_otimizado.predict(X_test)\n",
    "\n",
    "# Reportar os scores de antes e de depois\n",
    "print \"Modelo não otimizado\\n------\"\n",
    "print \"Acuracia dos dados de teste: {:.4f}\".format(accuracy_score(y_test, predicao_comum))\n",
    "print \"F-score dos dados de teste: {:.4f}\".format(fbeta_score(y_test, predicao_comum, beta = 2))\n",
    "print \"\\nModelo Otimizado\\n------\"\n",
    "print \"Acuracia dos dados de teste: {:.4f}\".format(accuracy_score(y_test, predicao_otimizada))\n",
    "print \"F-score dos dados de teste: {:.4f}\".format(fbeta_score(y_test, predicao_otimizada, beta = 2))\n"
   ]
  },
  {
   "cell_type": "code",
   "execution_count": null,
   "metadata": {
    "collapsed": true
   },
   "outputs": [],
   "source": []
  }
 ],
 "metadata": {
  "kernelspec": {
   "display_name": "Python 3",
   "language": "python",
   "name": "python3"
  },
  "language_info": {
   "codemirror_mode": {
    "name": "ipython",
    "version": 3
   },
   "file_extension": ".py",
   "mimetype": "text/x-python",
   "name": "python",
   "nbconvert_exporter": "python",
   "pygments_lexer": "ipython3",
   "version": "3.6.5"
  }
 },
 "nbformat": 4,
 "nbformat_minor": 1
}
